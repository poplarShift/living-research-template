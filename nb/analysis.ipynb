{
 "cells": [
  {
   "cell_type": "markdown",
   "metadata": {},
   "source": [
    "# A sample analysis notebook"
   ]
  },
  {
   "cell_type": "code",
   "execution_count": null,
   "metadata": {},
   "outputs": [],
   "source": [
    "import hvplot.pandas\n",
    "\n",
    "from bokeh.themes import Theme\n",
    "import holoviews as hv\n",
    "from holoviews import opts\n",
    "hv.renderer('bokeh').theme = Theme('bokeh-theme.yaml')"
   ]
  },
  {
   "cell_type": "code",
   "execution_count": null,
   "metadata": {},
   "outputs": [],
   "source": [
    "from bokeh.sampledata.unemployment1948 import data as df\n",
    "df = df.drop('Annual', 1).melt(id_vars='Year', var_name='Month', value_name='Unemployment')\n",
    "df.head()"
   ]
  },
  {
   "cell_type": "code",
   "execution_count": null,
   "metadata": {},
   "outputs": [],
   "source": [
    "e = df.hvplot('Year', 'Unemployment', groupby='Month', dynamic=False).opts(hv.opts.Curve(frame_height=300))\n",
    "fname = '../nb_fig/figure'"
   ]
  },
  {
   "cell_type": "code",
   "execution_count": null,
   "metadata": {},
   "outputs": [],
   "source": [
    "static = e.overlay().opts(opts.NdOverlay(legend_position='right'))\n",
    "hv.save(static.opts(toolbar=None), fname, fmt='png')\n",
    "static"
   ]
  },
  {
   "cell_type": "code",
   "execution_count": null,
   "metadata": {},
   "outputs": [],
   "source": [
    "interactive = e.overlay().opts(opts.Curve(line_color='gray', line_alpha=0.5, show_legend=False), clone=True) * e.opts(opts.Curve(line_color='red'), clone=True)\n",
    "hv.save(interactive, fname, fmt='widgets')\n",
    "interactive"
   ]
  }
 ],
 "metadata": {
  "kernelspec": {
   "display_name": "Python 3",
   "language": "python",
   "name": "python3"
  },
  "language_info": {
   "codemirror_mode": {
    "name": "ipython",
    "version": 3
   },
   "file_extension": ".py",
   "mimetype": "text/x-python",
   "name": "python",
   "nbconvert_exporter": "python",
   "pygments_lexer": "ipython3",
   "version": "3.7.4"
  }
 },
 "nbformat": 4,
 "nbformat_minor": 4
}
